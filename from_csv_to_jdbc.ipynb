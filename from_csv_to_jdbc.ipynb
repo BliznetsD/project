{
 "cells": [
  {
   "cell_type": "code",
   "execution_count": 6,
   "metadata": {},
   "outputs": [],
   "source": [
    "from pyspark.sql import SparkSession\n",
    "import pyspark.sql.functions        as f\n",
    "import pyspark.sql.types            as t\n",
    "spark = SparkSession.builder.master(\"local\").appName(\"spark_test\").getOrCreate()\n",
    "df = spark.read\\\n",
    "        .format(\"csv\")\\\n",
    "        .option(\"header\",\"true\")\\\n",
    "        .option(\"delimeter\",\",\")\\\n",
    "        .option(\"inferSchema\",True) \\\n",
    "        .load(\"C:/Users/DBliznets/Desktop/test/dataset/stocks_price_final.csv\")\n",
    "\n",
    "df.write.format('jdbc').options(\n",
    "      url='jdbc:postgresql://localhost:5432/postgres',\n",
    "      driver='org.postgresql.Driver',\n",
    "      dbtable='public.stock_price_1',\n",
    "      user='postgres',\n",
    "      batchsize='50000',\n",
    "      password='1qaz').mode('append').save()\n",
    "#1.08 без\n",
    "#1.14 с 1000\n",
    "#1.22 с 1000000"
   ]
  }
 ],
 "metadata": {
  "interpreter": {
   "hash": "48244f177d47e8f37ab9c2fa88a9e63a8a67c15c9aad311ba03e7853f7f734cd"
  },
  "kernelspec": {
   "display_name": "Python 3.10.4 64-bit",
   "language": "python",
   "name": "python3"
  },
  "language_info": {
   "codemirror_mode": {
    "name": "ipython",
    "version": 3
   },
   "file_extension": ".py",
   "mimetype": "text/x-python",
   "name": "python",
   "nbconvert_exporter": "python",
   "pygments_lexer": "ipython3",
   "version": "3.10.4"
  },
  "orig_nbformat": 4
 },
 "nbformat": 4,
 "nbformat_minor": 2
}
