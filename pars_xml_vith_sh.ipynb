{
 "cells": [
  {
   "cell_type": "code",
   "execution_count": 5,
   "metadata": {},
   "outputs": [
    {
     "name": "stdout",
     "output_type": "stream",
     "text": [
      "+---+---+----------+\n",
      "|_id|rid|      name|\n",
      "+---+---+----------+\n",
      "|  1|  1|  Record 1|\n",
      "|  2|  2|  Record 2|\n",
      "|  3|  3|Record > 3|\n",
      "+---+---+----------+\n",
      "\n"
     ]
    }
   ],
   "source": [
    "from pyspark.sql import SparkSession\n",
    "from pyspark.sql.types import StructType, StructField, StringType, IntegerType\n",
    "from decimal import Decimal\n",
    "appName = \"test_pars_xml\"\n",
    "master = \"local\"\n",
    "\n",
    "# Create Spark session\n",
    "spark = SparkSession.builder.master(\"local\").appName(\"spark_test\").getOrCreate()\n",
    "\n",
    "schema = StructType([\n",
    "    StructField('_id', IntegerType(), False),\n",
    "    StructField('rid', IntegerType(), False),\n",
    "    StructField('name', StringType(), False)\n",
    "])\n",
    "\n",
    "df = spark.read.format(\"com.databricks.spark.xml\") \\\n",
    "    .option(\"rowTag\",\"record\").load(\"test.xml\", schema=schema)\n",
    "\n",
    "df.show()"
   ]
  }
 ],
 "metadata": {
  "interpreter": {
   "hash": "48244f177d47e8f37ab9c2fa88a9e63a8a67c15c9aad311ba03e7853f7f734cd"
  },
  "kernelspec": {
   "display_name": "Python 3.10.4 64-bit",
   "language": "python",
   "name": "python3"
  },
  "language_info": {
   "codemirror_mode": {
    "name": "ipython",
    "version": 3
   },
   "file_extension": ".py",
   "mimetype": "text/x-python",
   "name": "python",
   "nbconvert_exporter": "python",
   "pygments_lexer": "ipython3",
   "version": "3.10.4"
  },
  "orig_nbformat": 4
 },
 "nbformat": 4,
 "nbformat_minor": 2
}
