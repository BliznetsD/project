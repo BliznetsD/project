{
 "cells": [
  {
   "cell_type": "code",
   "execution_count": 3,
   "metadata": {},
   "outputs": [
    {
     "name": "stdout",
     "output_type": "stream",
     "text": [
      "Apache Spark Application using PySpark - XML - Starts Here ...\n",
      "2022-04-13 15:50:06\n",
      "+---------+-------------------+-----+--------------------+----+\n",
      "|_category|             author|price|               title|year|\n",
      "+---------+-------------------+-----+--------------------+----+\n",
      "|  COOKING|Giada De Laurentiis| 30.0|{Everyday Italian...|2005|\n",
      "| CHILDREN|       J K. Rowling|29.99|  {Harry Potter, en}|2005|\n",
      "|      WEB|     James McGovern|49.99|{XQuery Kick Star...|2003|\n",
      "|      WEB|        Erik T. Ray|39.95|{Learning XML, en...|2003|\n",
      "+---------+-------------------+-----+--------------------+----+\n",
      "\n"
     ]
    }
   ],
   "source": [
    "from pyspark.sql import SparkSession\n",
    "\n",
    "import time\n",
    "# https://mvnrepository.com/artifact/com.databricks/spark-xml_2.11/0.6.0\n",
    "\n",
    "if __name__ == \"__main__\":\n",
    "    print(\"Apache Spark Application using PySpark - XML - Starts Here ...\")\n",
    "    print(time.strftime(\"%Y-%m-%d %H:%M:%S\"))\n",
    "\n",
    "    spark = SparkSession \\\n",
    "        .builder \\\n",
    "        .appName(\"Apache Spark Application using PySpark - XML Demo\") \\\n",
    "        .master(\"local[*]\") \\\n",
    "        .config(\"spark.jars\", \"file:///C:/Users/DBliznets/spark-xml_2.12-0.13.0.jar\") \\\n",
    "        .config(\"spark.executor.extraClassPath\", \"file:///C:/Users/DBliznets/spark-xml_2.12-0.13.0.jar\") \\\n",
    "        .config(\"spark.executor.extraLibrary\", \"file:///C:/Users/DBliznets/spark-xml_2.12-0.13.0.jar\") \\\n",
    "        .config(\"spark.driver.extraClassPath\", \"file:///C:/Users/DBliznets/spark-xml_2.12-0.13.0.jar\") \\\n",
    "        .getOrCreate()\n",
    "\n",
    "    rootTag = \"bookstore\"\n",
    "    rowTag = \"book\"\n",
    "\n",
    "    df = spark\\\n",
    "        .read\\\n",
    "        .format('xml') \\\n",
    "        .options(rootTag=rootTag)\\\n",
    "        .options(rowTag=rowTag)\\\n",
    "        .load('books.xml')\n",
    "\n",
    "    df.show()"
   ]
  }
 ],
 "metadata": {
  "interpreter": {
   "hash": "48244f177d47e8f37ab9c2fa88a9e63a8a67c15c9aad311ba03e7853f7f734cd"
  },
  "kernelspec": {
   "display_name": "Python 3.10.4 64-bit",
   "language": "python",
   "name": "python3"
  },
  "language_info": {
   "codemirror_mode": {
    "name": "ipython",
    "version": 3
   },
   "file_extension": ".py",
   "mimetype": "text/x-python",
   "name": "python",
   "nbconvert_exporter": "python",
   "pygments_lexer": "ipython3",
   "version": "3.10.4"
  },
  "orig_nbformat": 4
 },
 "nbformat": 4,
 "nbformat_minor": 2
}
